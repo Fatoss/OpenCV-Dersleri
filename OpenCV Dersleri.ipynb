{
 "cells": [
  {
   "cell_type": "markdown",
   "metadata": {},
   "source": [
    "# Ders 1 Temel Komutlar"
   ]
  },
  {
   "cell_type": "code",
   "execution_count": null,
   "metadata": {},
   "outputs": [],
   "source": [
    "import cv2 # kütüphaneyi yükledik\n",
    "import numpy as np # yardımcı kütüphane\n",
    "resim=cv2.imread('abc.jpg')#resmi yükledik\n",
    "print('Resmin türü: ', type(resim)) # değişkenin yani resmin türü\n",
    "print('Resimdeki eleman sayısı:', resim.size) \n",
    "print('Resimdeki elemanların türü: ',resim.dtype) \n",
    "print('Resmin boyutu: ',resim.shape)\n",
    "cv2.imshow('Fotograf',resim)  # resmi ekranda gösterik. İlk parametre açılan pencereye verilen ad \n",
    "\n",
    "# Bu alttaki iki satır tüm kodlarda olmalı. Tabi videolarda daha farklı oluyor.\n",
    "cv2.waitKey(0) #klavyeden tuşa basılıp basılmadğına bakar\n",
    "cv2.destroyAllWindows() # tüm pencereleri kapatır"
   ]
  },
  {
   "cell_type": "code",
   "execution_count": null,
   "metadata": {},
   "outputs": [],
   "source": [
    "resim=cv2.imread('abc.jpg')\n",
    "cv2.imshow('Fotograf',resim)  \n",
    "cv2.waitKey(0)  \n",
    "cv2.destroyAllWindows() "
   ]
  },
  {
   "cell_type": "code",
   "execution_count": null,
   "metadata": {},
   "outputs": [],
   "source": [
    "\n",
    "resim=cv2.imread('abc.jpg',0) # resmi gri şekilde yükler\n",
    "cv2.imshow('Fotograf',resim)  \n",
    "cv2.imwrite('gri.jpg',resim) # resmi gri.jpg olarak kaydettik. Uzantası .jpg\n",
    "cv2.waitKey(0) \n",
    "cv2.destroyAllWindows() "
   ]
  },
  {
   "cell_type": "markdown",
   "metadata": {},
   "source": [
    "# Ders 2 BGR Uzayı"
   ]
  },
  {
   "cell_type": "markdown",
   "metadata": {},
   "source": [
    "Opencv'de görüntüler BGR uzayı ile ifade edilir.Yani resimdeki her bir pikselin 3 tane değeri vardır. Bunlardan B olan blue yani mavi, G olan Green yani yeşil ve R olan Red yani kırmızı rengi ifade eder. Bu değerler 0 ile 255 arasındadır. Örneğin bir pikselin B değeri 255 G değeri 0 R değeri 0 olsun. Bu durumda bu piksel mavi renginde gözükecektir. \n",
    "\n",
    "Ayrıca resim bu yüzden 3 kanallıdır. Gri resimler ise BGR uzayında değildir. Orada tek bir kanal vardır. Yani her bir pikselin tek bir değeri vardır. \n",
    "Resimlerde her bir kanal da 0 değerine sahipse o zaman renk siyah olur. Üçü de 255 değerine sahipse o zaman renk beyaz olur"
   ]
  },
  {
   "cell_type": "code",
   "execution_count": null,
   "metadata": {},
   "outputs": [],
   "source": [
    "resim=cv2.imread('color.png')\n",
    "b,g,r=cv2.split(resim) # Resmi 3'e ayırdık. Birinci mavi kanalı ikinci yeşil kanalı üçüncü kırmızı kanalı alıyor resimdeki\n",
    "\n",
    "\n",
    "#Sarı renk yeşil ile kırmızının birleşiminden oluşur.\n",
    "#O yüzden resimde sarı rengin olduğu yerde mavi kanal 0 yeşil ve kırmızı kanal 255 değerine sahip\n",
    "cv2.imshow('Mavi ',b)  # resmin mavi kanalını gösteriyoruz\n",
    "cv2.imshow('Yesil',g) # resmin yeşil kanalını gösteriyoruz\n",
    "cv2.imshow('Kirmizi',r) #  resmin kırmızı kanalını gösteriyoruz. \n",
    "yeni=cv2.merge((b,g,r)) # Ayrılan kanalları birleştirdik.\n",
    "cv2.imshow('Fotograf',yeni)\n",
    "cv2.waitKey(0) \n",
    "cv2.destroyAllWindows()"
   ]
  },
  {
   "cell_type": "code",
   "execution_count": null,
   "metadata": {},
   "outputs": [],
   "source": [
    "resim=cv2.imread('abc.jpg')\n",
    "resim[:,:,0]=255 # Resmin mavi kanalını 255 yaptık.\n",
    "cv2.imshow('Fotograf',resim)  \n",
    "cv2.waitKey(0)  \n",
    "cv2.destroyAllWindows() "
   ]
  },
  {
   "cell_type": "markdown",
   "metadata": {},
   "source": [
    "# Ders 3 Resimde Bölgesel İşlemler"
   ]
  },
  {
   "cell_type": "code",
   "execution_count": null,
   "metadata": {},
   "outputs": [],
   "source": [
    "resim=cv2.imread('abc.jpg')\n",
    "print(resim[50,50]) # Resmin 50'ye 50. pikselinin BGR değerleri"
   ]
  },
  {
   "cell_type": "code",
   "execution_count": null,
   "metadata": {},
   "outputs": [],
   "source": [
    "resim=cv2.imread('abc.jpg')\n",
    "resim[50,50]=[0,255,255] # Resmin 50'ye 50. pikselinin BGR değerlerini 0,255,255 yani sarı yaptık.\n",
    "cv2.imshow('Fotograf',resim)  \n",
    "cv2.waitKey(0)  \n",
    "cv2.destroyAllWindows() "
   ]
  },
  {
   "cell_type": "code",
   "execution_count": null,
   "metadata": {},
   "outputs": [],
   "source": [
    "resim=cv2.imread('abc.jpg')\n",
    "resim[0:100,300:500]=[0,255,255] #Burada bir bölge seçip orayı sarı yaptık. \n",
    "#Burada ilk iki değer dikey kısmı diğer iki değer ise yatay kısmı belirliyor.\n",
    "cv2.imshow('Fotograf',resim)  \n",
    "cv2.waitKey(0)  \n",
    "cv2.destroyAllWindows() "
   ]
  },
  {
   "cell_type": "markdown",
   "metadata": {},
   "source": [
    "# Ders 4 Resmi Genişletme İşlemleri"
   ]
  },
  {
   "cell_type": "code",
   "execution_count": null,
   "metadata": {},
   "outputs": [],
   "source": [
    "resim=cv2.imread('abc.jpg')\n",
    "yeni=cv2.copyMakeBorder(resim,100,100,100,100,cv2.BORDER_REPLICATE) \n",
    "# bu şekilde resmi her taraftan 100 piklsel genişliğinde uzattık. Değerler sırayla üst, alt sol ve sağ için\n",
    "cv2.imshow('Fotograf',resim) \n",
    "cv2.imshow('Yeni',yeni)  \n",
    "cv2.waitKey(0)  \n",
    "cv2.destroyAllWindows() "
   ]
  },
  {
   "cell_type": "code",
   "execution_count": null,
   "metadata": {},
   "outputs": [],
   "source": [
    "resim=cv2.imread('abc.jpg')\n",
    "ayna=cv2.copyMakeBorder(resim,100,100,100,100,cv2.BORDER_REFLECT) # aynalama yaparak genişletir.\n",
    "kopya=cv2.copyMakeBorder(resim,100,100,100,100,cv2.BORDER_WRAP) # koplayama yaparak genişletir\n",
    "siyah=cv2.copyMakeBorder(resim,100,100,100,100,cv2.BORDER_CONSTANT) # genişleyen kısımlara siyah renk atar\n",
    "mavi=cv2.copyMakeBorder(resim,100,100,100,100,cv2.BORDER_CONSTANT,value=[255,0,0]) # genişleyen kısımlara mavi renk atar\n",
    "cv2.imshow('Ayna',ayna) \n",
    "cv2.imshow('Kopya',kopya) \n",
    "cv2.imshow('Siyah',siyah) \n",
    "cv2.imshow('Mavi',mavi)  \n",
    "cv2.waitKey(0)  \n",
    "cv2.destroyAllWindows() "
   ]
  },
  {
   "cell_type": "markdown",
   "metadata": {},
   "source": [
    "# Ders 5 Resme Şekil Çizdirme"
   ]
  },
  {
   "cell_type": "code",
   "execution_count": null,
   "metadata": {},
   "outputs": [],
   "source": [
    "resim=cv2.imread('old.jpg')\n",
    "cv2.rectangle(resim,(150,150,),(500,350),[0,255,255],2) # resime dikdörtgen çizdirdik\n",
    "# 150,150 sol üst köşe 500,350 sağ alt köşe. Renk değeri sarı, kalınlığı da 2\n",
    "cv2.imshow('Fotograf',resim)  \n",
    "cv2.waitKey(0)  \n",
    "cv2.destroyAllWindows() "
   ]
  },
  {
   "cell_type": "code",
   "execution_count": null,
   "metadata": {},
   "outputs": [],
   "source": [
    "resim=cv2.imread('old.jpg')\n",
    "cv2.line(resim,(150,150,),(500,350),[255,0,0],3) # resime çizgi çizdirdik\n",
    "# 150,150 başlangıç 500,350 bitiş noktası. Renk değeri mavi, kalınlığı da 3\n",
    "cv2.imshow('Fotograf',resim)  \n",
    "cv2.waitKey(0)  \n",
    "cv2.destroyAllWindows() "
   ]
  },
  {
   "cell_type": "code",
   "execution_count": null,
   "metadata": {},
   "outputs": [],
   "source": [
    "resim=cv2.imread('old.jpg')\n",
    "cv2.circle(resim,(200,200,),100,[255,255,0],3) # resime çember çizdirdik\n",
    "# 200,200 çember merkezi. Yarıçapı 100. Renk değeri cyan, kalınlığı da 3\n",
    "cv2.imshow('Fotograf',resim)  \n",
    "cv2.waitKey(0)  \n",
    "cv2.destroyAllWindows() "
   ]
  },
  {
   "cell_type": "code",
   "execution_count": null,
   "metadata": {},
   "outputs": [],
   "source": [
    "resim=cv2.imread('old.jpg')\n",
    "cv2.circle(resim,(200,200,),100,[255,255,0],cv2.FILLED) # resime daire çizdirdik\n",
    "# 200,200 çember merkezi. Yarıçapı 100. Renk değeri cyan, \n",
    "cv2.imshow('Fotograf',resim)  \n",
    "cv2.waitKey(0)  \n",
    "cv2.destroyAllWindows() "
   ]
  },
  {
   "cell_type": "code",
   "execution_count": null,
   "metadata": {},
   "outputs": [],
   "source": [
    "resim=cv2.imread('old.jpg')\n",
    "cv2.putText(resim,'Ronaldo',(200,200),cv2.FONT_HERSHEY_SIMPLEX, 2,[0,255,255],3) # resime yazı yazdırdık\n",
    "# Yazı olarak Ronaldo yazdırdık. 200,200 yazının başlangıç noktası. Yanındaki değer font değeri. \n",
    "# 2 değeri yazının büyüklüğü, 3 değeri yazının kalınlığı, Yazının rengi sarı\n",
    "cv2.imshow('Fotograf',resim)  \n",
    "cv2.waitKey(0)  \n",
    "cv2.destroyAllWindows() "
   ]
  },
  {
   "cell_type": "code",
   "execution_count": null,
   "metadata": {},
   "outputs": [],
   "source": [
    "resim=cv2.imread('old.jpg')\n",
    "pts = np.array([[25, 70], [25, 160],\n",
    "                [110, 200], [200, 160],\n",
    "                [200, 70], [110, 20]],)\n",
    "\n",
    "cv2.polylines(resim, [pts],False, [0,255,255], 3) # resme çoklu çizgi çizdirdik\n",
    "#pts koordinat noktaları çizgilerin. False değeri şeklin kapanmayacağını ifade ediyor. Ture olursa şekil kapalı olur.\n",
    "# rengi sarı kalınlığı 3\n",
    "cv2.imshow('Fotograf',resim)  \n",
    "cv2.waitKey(0)  \n",
    "cv2.destroyAllWindows() "
   ]
  },
  {
   "cell_type": "markdown",
   "metadata": {},
   "source": [
    "# Ders 6 Numpy İle Resim Oluşturma"
   ]
  },
  {
   "cell_type": "code",
   "execution_count": null,
   "metadata": {},
   "outputs": [],
   "source": [
    "resim=np.zeros((500,500,3),dtype=\"uint8\") #500*500 boyutunda siyah bir resim oluşturduk\n",
    "\n",
    "\n",
    "cv2.imshow('Fotograf',resim)  \n",
    "cv2.waitKey(0)  \n",
    "cv2.destroyAllWindows() "
   ]
  },
  {
   "cell_type": "code",
   "execution_count": null,
   "metadata": {},
   "outputs": [],
   "source": [
    "resim=np.zeros((500,500,3),dtype=\"uint8\") #500*500 boyutunda siyah bir resim oluşturduk\n",
    "resim.fill(255) # resimdeki tüm değerleri 255 yaptık\n",
    "\n",
    "cv2.imshow('Fotograf',resim)  \n",
    "cv2.waitKey(0)  \n",
    "cv2.destroyAllWindows() "
   ]
  },
  {
   "cell_type": "code",
   "execution_count": null,
   "metadata": {},
   "outputs": [],
   "source": [
    "resim=cv2.imread('old.jpg')\n",
    "\n",
    "yeni=np.zeros_like(resim) # resim boyutunda sıfırlardan oluşan yeni bir resim\n",
    "cv2.imshow('Fotograf',yeni)  \n",
    "cv2.waitKey(0)  \n",
    "cv2.destroyAllWindows() "
   ]
  },
  {
   "cell_type": "markdown",
   "metadata": {},
   "source": [
    "# Ders 7 Aritmetik İşlemler"
   ]
  },
  {
   "cell_type": "code",
   "execution_count": null,
   "metadata": {},
   "outputs": [],
   "source": [
    "resim=cv2.imread('old.jpg')\n",
    "resim=resim+resim # iki resmi topladık. \n",
    "# Eğer pikselin toplam değeri 255 i geçiyorsa bu durumda yeni değer= toplam-256.\n",
    "# Örneğin toplam=310 ise yeni değer 310-266=54 olur.\n",
    "\n",
    "cv2.imshow('Fotograf',resim)  \n",
    "\n",
    "cv2.waitKey(0)  \n",
    "cv2.destroyAllWindows() "
   ]
  },
  {
   "cell_type": "code",
   "execution_count": null,
   "metadata": {},
   "outputs": [],
   "source": [
    "resim=cv2.imread('old.jpg')\n",
    "\n",
    "resim =cv2.add(resim,resim)# iki resmi topladık.\n",
    "# Eğer pikselin toplam değeri 255 i geçiyorsa bu durumda yeni değer 255 olur\n",
    "cv2.imshow('Fotograf',resim)  \n",
    "\n",
    "cv2.waitKey(0)  \n",
    "cv2.destroyAllWindows() "
   ]
  },
  {
   "cell_type": "code",
   "execution_count": null,
   "metadata": {},
   "outputs": [],
   "source": [
    "resim=cv2.imread('old.jpg')\n",
    "resim =cv2.addWeighted(resim,0.8,resim,0.5,0)# iki resmi ağırlıklı topladık.\n",
    "# yani ilk resmi 0.8 ikinci resmi 0.5 ile çarpıp topladı\n",
    "# 0 değeri çok önemli değil. Varsayılan olarak yazdık.\n",
    "\n",
    "cv2.imshow('Fotograf',resim)  \n",
    "\n",
    "cv2.waitKey(0)  \n",
    "cv2.destroyAllWindows() "
   ]
  },
  {
   "cell_type": "code",
   "execution_count": null,
   "metadata": {},
   "outputs": [],
   "source": [
    "resim=cv2.imread('old.jpg')\n",
    "yeni=yeni=np.zeros_like(resim)\n",
    "yeni[:,:,2]=255\n",
    "resim =cv2.subtract(resim,yeni) # ikinci resmi ilk resimden çıkardık\n",
    "cv2.imshow('Fotograf',resim)  \n",
    "\n",
    "cv2.waitKey(0)  \n",
    "cv2.destroyAllWindows() "
   ]
  },
  {
   "cell_type": "code",
   "execution_count": null,
   "metadata": {},
   "outputs": [],
   "source": [
    "resim=cv2.imread('old.jpg')\n",
    "yeni=yeni=np.zeros_like(resim)\n",
    "yeni[:,:,2]=255\n",
    "resim =cv2.multiply(resim,yeni) # iki resme çarpma işlemi uyguladık\n",
    "cv2.imshow('Fotograf',resim)  \n",
    "\n",
    "cv2.waitKey(0)  \n",
    "cv2.destroyAllWindows() "
   ]
  },
  {
   "cell_type": "markdown",
   "metadata": {},
   "source": [
    "# Ders 8 Dönüşüm İşlemleri"
   ]
  },
  {
   "cell_type": "code",
   "execution_count": null,
   "metadata": {},
   "outputs": [],
   "source": [
    "resim=cv2.imread('old.jpg')\n",
    "gri=cv2.cvtColor(resim,cv2.COLOR_BGR2GRAY) # resmi gri'ye çevirdik\n",
    "cv2.imshow('Fotograf',gri)  \n",
    "cv2.waitKey(0)  \n",
    "cv2.destroyAllWindows() "
   ]
  },
  {
   "cell_type": "code",
   "execution_count": null,
   "metadata": {},
   "outputs": [],
   "source": [
    "resim=cv2.imread('old.jpg')\n",
    "renk_rgb=cv2.cvtColor(resim,cv2.COLOR_BGR2RGB) # resmi RGB formatına dönüştürdük\n",
    "cv2.imshow('Fotograf',renk_rgb)  \n",
    "cv2.waitKey(0)  \n",
    "cv2.destroyAllWindows() "
   ]
  },
  {
   "cell_type": "code",
   "execution_count": null,
   "metadata": {},
   "outputs": [],
   "source": [
    "resim=cv2.imread('old.jpg')\n",
    "renk_rgb=cv2.cvtColor(resim,cv2.COLOR_BGR2HSV) # resmi HSV formatına dönüştürdük\n",
    "cv2.imshow('Fotograf',renk_rgb)  \n",
    "cv2.waitKey(0)  \n",
    "cv2.destroyAllWindows() "
   ]
  },
  {
   "cell_type": "markdown",
   "metadata": {},
   "source": [
    "# Ders 9 Bit Bazında İşlemler"
   ]
  },
  {
   "cell_type": "code",
   "execution_count": null,
   "metadata": {},
   "outputs": [],
   "source": [
    "resim=cv2.imread('old.jpg')\n",
    "ters=cv2.bitwise_not(resim) # resimdeki piksellerin tersini aldık. 0 olan 255, 255 olan 0 oldu gibi. \n",
    "# Buradaki işlem bit bazında  yani 255 11111111 tersi ise 00000000\n",
    "\n",
    "cv2.imshow('Fotograf',ters)  \n",
    "cv2.waitKey(0)  \n",
    "cv2.destroyAllWindows() "
   ]
  },
  {
   "cell_type": "code",
   "execution_count": null,
   "metadata": {},
   "outputs": [],
   "source": [
    "resim=cv2.imread('old.jpg')\n",
    "yeni=yeni=np.zeros_like(resim)\n",
    "yeni[:,:,2]=255 # bu resmin kırmızı kanalını 255 yaptık.\n",
    "ters=cv2.bitwise_and(resim,yeni)# iki resme bit bazında and işlemi uyguladık\n",
    "cv2.imshow('Fotograf',ters)  \n",
    "cv2.waitKey(0)  \n",
    "cv2.destroyAllWindows() "
   ]
  },
  {
   "cell_type": "code",
   "execution_count": null,
   "metadata": {},
   "outputs": [],
   "source": [
    "resim=cv2.imread('old.jpg')\n",
    "yeni=yeni=np.zeros_like(resim)\n",
    "yeni[:,:,2]=255 # bu resmin kırmızı kanalını 255 yaptık.\n",
    "ters=cv2.bitwise_or(resim,yeni)# iki resme bit bazında or işlemi uyguladık\n",
    "cv2.imshow('Fotograf',ters)  \n",
    "cv2.waitKey(0)  \n",
    "cv2.destroyAllWindows() "
   ]
  },
  {
   "cell_type": "markdown",
   "metadata": {},
   "source": [
    "# Ders 10 Boyut İşlemleri"
   ]
  },
  {
   "cell_type": "code",
   "execution_count": null,
   "metadata": {},
   "outputs": [],
   "source": [
    "resim=cv2.imread('old.jpg')\n",
    "yeni=cv2.resize(resim,(500,500)) # resim boyutunu 500*500 yaptık \n",
    "cv2.imshow('Yeni',yeni)\n",
    "cv2.imshow('Fotograf',resim)  \n",
    "cv2.waitKey(0)  \n",
    "cv2.destroyAllWindows() "
   ]
  },
  {
   "cell_type": "code",
   "execution_count": null,
   "metadata": {},
   "outputs": [],
   "source": [
    "resim=cv2.imread('old.jpg')\n",
    "yeni=cv2.resize(resim,None,fx=0.9,fy=0.9) # resmin boyutunu her iki boyuttan da 0.9 katsayısı ile çarparak yeniden ayarladık.\n",
    "cv2.imshow('Yeni',yeni)\n",
    "cv2.imshow('Fotograf',resim)  \n",
    "cv2.waitKey(0)  \n",
    "cv2.destroyAllWindows() "
   ]
  },
  {
   "cell_type": "code",
   "execution_count": null,
   "metadata": {},
   "outputs": [],
   "source": [
    "resim=cv2.imread('old.jpg')\n",
    "yeni=cv2.pyrUp(resim) # resmin her iki boyutunu  da 2 katına çıkardık\n",
    "cv2.imshow('Yeni',yeni)\n",
    "cv2.imshow('Fotograf',resim)  \n",
    "cv2.waitKey(0)  \n",
    "cv2.destroyAllWindows() "
   ]
  },
  {
   "cell_type": "code",
   "execution_count": null,
   "metadata": {},
   "outputs": [],
   "source": [
    "resim=cv2.imread('old.jpg')\n",
    "yeni=cv2.pyrDown(resim) # resmin her iki boyutunu  da yarıya düşürdük\n",
    "cv2.imshow('Yeni',yeni)\n",
    "cv2.imshow('Fotograf',resim)  \n",
    "cv2.waitKey(0)  \n",
    "cv2.destroyAllWindows() "
   ]
  },
  {
   "cell_type": "markdown",
   "metadata": {},
   "source": [
    "# Ders 11 Video İşlemleri"
   ]
  },
  {
   "cell_type": "code",
   "execution_count": null,
   "metadata": {},
   "outputs": [],
   "source": [
    "kamera= cv2.VideoCapture(0) # video için kamaerayı açıyoruz. \n",
    "# buradaki 0 parametresi biligisayarın kendi kamerasını kullnacağımızı belirityor.\n",
    "# usb kamera için 1 ip kamera için kameranın ip'si lazım\n",
    "while True:\n",
    "    ret,kare=kamera.read() # kameradan görüntü alıyoruz. ret parametresi kameranın doğru çalışıp çalışmadığını belirtiyor.\n",
    "    # kare ise alınan görüntü\n",
    "\n",
    "    cv2.imshow(\"kamera\",kare)\n",
    "    if cv2.waitKey(25) & 0xFF == ord('q'): # burada waitkey ile 25 ms'de bir görüntü alıyoruz.\n",
    "        #ayrıca q tuşuna basılınca döngüden çıkılıyor. Yani kamerayı kapatıyoruz.\n",
    "        break\n",
    "kamera.release() # kamerayı serbest bırakıyoruz\n",
    "cv2.destroyAllWindows()\n"
   ]
  },
  {
   "cell_type": "code",
   "execution_count": null,
   "metadata": {},
   "outputs": [],
   "source": [
    "kamera= cv2.VideoCapture(0)\n",
    "# kamera boyutunu 200*200 yaoıyoruz\n",
    "kamera.set(3,200)\n",
    "kamera.set(4,200)\n",
    "\n",
    "while True:\n",
    "    ret,kare=kamera.read() \n",
    "    \n",
    "    \n",
    "    cv2.imshow(\"kamera\",kare)\n",
    "    if cv2.waitKey(25) & 0xFF == ord('q'): \n",
    "        \n",
    "        break\n",
    "kamera.release() \n",
    "cv2.destroyAllWindows()\n"
   ]
  },
  {
   "cell_type": "code",
   "execution_count": null,
   "metadata": {},
   "outputs": [],
   "source": [
    "kamera= cv2.VideoCapture('test.mp4') # bilgisayarda bulunan bir videoyu yükledik\n",
    "while True:\n",
    "    ret,kare=kamera.read() \n",
    "    \n",
    "    \n",
    "    cv2.imshow(\"kamera\",kare)\n",
    "    if cv2.waitKey(25) & 0xFF == ord('q'): \n",
    "        \n",
    "        break\n",
    "kamera.release() \n",
    "cv2.destroyAllWindows()\n"
   ]
  },
  {
   "cell_type": "code",
   "execution_count": null,
   "metadata": {},
   "outputs": [],
   "source": [
    "kamera= cv2.VideoCapture(0)\n",
    "x=cv2.VideoWriter_fourcc(*\"XVID\") # kaydedici için format\n",
    "out=cv2.VideoWriter('test.avi',x,30,(640,480)) # kaydediciyi ayarladık. ab.avi oluşacak dosyanın adı, 30 fps değeri\n",
    "# 640,480 ise videonun boyutu. Bu boyutu kendi kameranıza göre ayarlayın. Yoksa hata alabilirsiniz. Ya video boş olabilir\n",
    "while True:\n",
    "    ret,kare=kamera.read() \n",
    "    if ret:\n",
    "        out.write(kare) # her bir kareyi kaydediyor\n",
    "        \n",
    "    \n",
    "    cv2.imshow(\"kamera\",kare)\n",
    "    if cv2.waitKey(25) & 0xFF == ord('q'): \n",
    "        \n",
    "        break\n",
    "kamera.release() \n",
    "cv2.destroyAllWindows()"
   ]
  },
  {
   "cell_type": "code",
   "execution_count": null,
   "metadata": {},
   "outputs": [],
   "source": [
    "kamera= cv2.VideoCapture(0) \n",
    "while True:\n",
    "    ret,kare=kamera.read() \n",
    "    \n",
    "    kare=cv2.flip(kare,0) # görüntüyü ters çevirir\n",
    "    cv2.imshow(\"kamera\",kare)\n",
    "    if cv2.waitKey(25) & 0xFF == ord('q'): \n",
    "        \n",
    "        break\n",
    "kamera.release() \n",
    "cv2.destroyAllWindows()\n"
   ]
  },
  {
   "cell_type": "markdown",
   "metadata": {},
   "source": [
    "# Ders 12 Çeşitli Filtreler-1"
   ]
  },
  {
   "cell_type": "code",
   "execution_count": null,
   "metadata": {},
   "outputs": [],
   "source": [
    "resim=cv2.imread('old.jpg')\n",
    "blur=cv2.GaussianBlur(resim,(7,7),0) # resme Gaussian Blur uyguladık. 7,7 kernel size\n",
    "cv2.imshow('Blur',blur) \n",
    "cv2.imshow('Fotograf',resim)  \n",
    "cv2.waitKey(0)  \n",
    "cv2.destroyAllWindows() "
   ]
  },
  {
   "cell_type": "code",
   "execution_count": null,
   "metadata": {},
   "outputs": [],
   "source": [
    "resim=cv2.imread('old.jpg')\n",
    "blur=cv2.medianBlur(resim,5) # resme median Blur uyguladık. 5 kernel size\n",
    "cv2.imshow('Blur',blur) \n",
    "cv2.imshow('Fotograf',resim)  \n",
    "cv2.waitKey(0)  \n",
    "cv2.destroyAllWindows() "
   ]
  },
  {
   "cell_type": "code",
   "execution_count": null,
   "metadata": {},
   "outputs": [],
   "source": [
    "resim=cv2.imread('noise.jpg')\n",
    "filtre=cv2.bilateralFilter(resim,15, 75, 75) # daha farklı bir filtre. Gürültü azaltmak için kullanılabilir\n",
    "cv2.imshow('Filtre',filtre) \n",
    "cv2.imshow('Fotograf',resim)  \n",
    "cv2.waitKey(0)  \n",
    "cv2.destroyAllWindows() "
   ]
  },
  {
   "cell_type": "code",
   "execution_count": null,
   "metadata": {},
   "outputs": [],
   "source": [
    "resim=cv2.imread('wal.jpg')\n",
    "resim=cv2.resize(resim,(600,300))\n",
    "mask = cv2.erode(resim,None,iterations=2) # resmi aşındırma için kullanılır.Aslında içindeki obje için demek daha doğru olur\n",
    "cv2.imshow('Filtre',mask) \n",
    "cv2.imshow('Fotograf',resim)  \n",
    "cv2.waitKey(0)  \n",
    "cv2.destroyAllWindows() "
   ]
  },
  {
   "cell_type": "code",
   "execution_count": null,
   "metadata": {},
   "outputs": [],
   "source": [
    "resim=cv2.imread('wal.jpg')\n",
    "resim=cv2.resize(resim,(600,300)) \n",
    "\n",
    "mask = cv2.dilate(resim,None,iterations=2) # resmi genişletme için kullanılır. Aslında içindeki obje için demek daha doğru olur\n",
    "cv2.imshow('Filtre',mask) \n",
    "\n",
    "cv2.imshow('Fotograf',resim)  \n",
    "cv2.waitKey(0)  \n",
    "cv2.destroyAllWindows() "
   ]
  },
  {
   "cell_type": "code",
   "execution_count": null,
   "metadata": {},
   "outputs": [],
   "source": [
    "resim=cv2.imread('old.jpg')\n",
    "gri=cv2.cvtColor(resim,cv2.COLOR_BGR2GRAY)\n",
    "_,mask=cv2.threshold(gri,127,255,cv2.THRESH_BINARY)# gri resimdeki 127 den büyük pikselleri 255 gerisini 0 yaptık \n",
    "cv2.imshow('Fotograf',mask)  \n",
    "cv2.waitKey(0)  \n",
    "cv2.destroyAllWindows() "
   ]
  },
  {
   "cell_type": "markdown",
   "metadata": {},
   "source": [
    "# Ders 13 Çeşitli Filtreler-2"
   ]
  },
  {
   "cell_type": "code",
   "execution_count": null,
   "metadata": {},
   "outputs": [],
   "source": [
    "resim=cv2.imread('city.jpg')\n",
    "filtre=cv2.Canny(resim,100,200) # Resimdeki kenarları bulmak için kullanılır\n",
    "cv2.imshow('Filtre',filtre) \n",
    "cv2.imshow('Fotograf',resim)  \n",
    "cv2.waitKey(0)  \n",
    "cv2.destroyAllWindows() "
   ]
  },
  {
   "cell_type": "code",
   "execution_count": null,
   "metadata": {},
   "outputs": [],
   "source": [
    "resim=cv2.imread('city.jpg')\n",
    "gri=cv2.cvtColor(resim,cv2.COLOR_BGR2GRAY)\n",
    "filtre=x = cv2.Sobel(gri, cv2.CV_64F, 0,1, ksize=5, scale=1) # Resimdeki  yatay kenarları bulmak için kullanılabilinir\n",
    "cv2.imshow('Filtre',filtre) \n",
    "cv2.imshow('Fotograf',resim)  \n",
    "cv2.waitKey(0)  \n",
    "cv2.destroyAllWindows() "
   ]
  },
  {
   "cell_type": "code",
   "execution_count": null,
   "metadata": {},
   "outputs": [],
   "source": [
    "resim=cv2.imread('city.jpg')\n",
    "gri=cv2.cvtColor(resim,cv2.COLOR_BGR2GRAY)\n",
    "filtre=x = cv2.Sobel(gri, cv2.CV_64F, 1,0, ksize=5, scale=1) # Resimdeki  dikey  kenarları bulmak için kullanılabilinir\n",
    "cv2.imshow('Filtre',filtre) \n",
    "cv2.imshow('Fotograf',resim)  \n",
    "cv2.waitKey(0)  \n",
    "cv2.destroyAllWindows() "
   ]
  },
  {
   "cell_type": "code",
   "execution_count": null,
   "metadata": {},
   "outputs": [],
   "source": [
    "resim=cv2.imread('city.jpg')\n",
    "gri=cv2.cvtColor(resim,cv2.COLOR_BGR2GRAY)\n",
    "filtre= cv2.Laplacian(gri, cv2.CV_64F,ksize=3) # Resme Laplacian filtre uyguladık\n",
    "cv2.imshow('Filtre',filtre) \n",
    "cv2.imshow('Fotograf',resim)  \n",
    "cv2.waitKey(0)  \n",
    "cv2.destroyAllWindows() "
   ]
  },
  {
   "cell_type": "markdown",
   "metadata": {},
   "source": [
    "# Projeler"
   ]
  },
  {
   "cell_type": "markdown",
   "metadata": {},
   "source": [
    "# Resimdeki Köşeleri Bulma"
   ]
  },
  {
   "cell_type": "code",
   "execution_count": null,
   "metadata": {},
   "outputs": [],
   "source": [
    "resim=cv2.imread('satranc.jpg')\n",
    "gri=cv2.cvtColor(resim,cv2.COLOR_BGR2GRAY)\n",
    "gri=np.float32(gri)\n",
    "koseler=cv2.goodFeaturesToTrack(gri,100,0.01,10)\n",
    "koseler=np.int0(koseler)\n",
    "for kose in koseler:\n",
    "    x,y=kose.ravel()\n",
    "    cv2.circle(resim,(x,y),3,(255,0,255),-1)\n",
    "cv2.imshow('Fotograf',resim)  \n",
    "cv2.waitKey(0)  \n",
    "cv2.destroyAllWindows() "
   ]
  },
  {
   "cell_type": "markdown",
   "metadata": {},
   "source": [
    "# Yüz Tanıma"
   ]
  },
  {
   "cell_type": "code",
   "execution_count": null,
   "metadata": {},
   "outputs": [],
   "source": [
    "\n",
    "kare=cv2.imread('messi.jpg')\n",
    "\n",
    "    \n",
    "kare=cv2.resize(kare,(800,800)) # bu değeri kendim atadım resim. Bir önemi yok\n",
    "yuz=cv2.CascadeClassifier(\"haarcascade_frontalface_default.xml\")\n",
    "gri=cv2.cvtColor(kare,cv2.COLOR_BGR2GRAY)\n",
    "yuzler=yuz.detectMultiScale(gri,1.1,4)\n",
    "    \n",
    "for (x,y,w,h,) in yuzler:\n",
    "    \n",
    "        \n",
    "    cv2.rectangle(kare,(x,y),(x+w,y+h),(255,0,0),2)\n",
    "\n",
    "cv2.imshow(\"kamera\",kare)\n",
    "     \n",
    "cv2.waitKey(0)\n",
    "cv2.destroyAllWindows()"
   ]
  },
  {
   "cell_type": "markdown",
   "metadata": {},
   "source": [
    "# Yüz Tanıma Video İçin"
   ]
  },
  {
   "cell_type": "code",
   "execution_count": null,
   "metadata": {},
   "outputs": [],
   "source": [
    "kamera= cv2.VideoCapture(0)\n",
    "yuz=cv2.CascadeClassifier(\"haarcascade_frontalface_default.xml\")\n",
    "while True:\n",
    "    ret,kare=kamera.read()\n",
    "   \n",
    "    \n",
    "    gri=cv2.cvtColor(kare,cv2.COLOR_BGR2GRAY)\n",
    "    yuzler=yuz.detectMultiScale(gri,1.1,4)\n",
    "    \n",
    "    for (x,y,w,h,) in yuzler:\n",
    "        \n",
    "        cv2.rectangle(kare,(x,y),(x+w,y+h),(255,0,0),2)\n",
    "\n",
    "    cv2.imshow(\"kamera\",kare)\n",
    "    if cv2.waitKey(1) & 0xFF == ord('q'):\n",
    "        break\n",
    "kamera.release()\n",
    "cv2.destroyAllWindows()\n"
   ]
  },
  {
   "cell_type": "markdown",
   "metadata": {},
   "source": [
    "# Yüz Tanıma Ve Göz Tanıma"
   ]
  },
  {
   "cell_type": "code",
   "execution_count": null,
   "metadata": {},
   "outputs": [],
   "source": [
    "kamera= cv2.VideoCapture(0)\n",
    "\n",
    "while True:\n",
    "    ret,kare=kamera.read()\n",
    "    kare=cv2.resize(kare,(300, 300))\n",
    "    \n",
    "    yuz=cv2.CascadeClassifier(\"haarcascade_frontalface_default.xml\")\n",
    "    goz=cv2.CascadeClassifier(\"haarcascade_eye.xml\")\n",
    "    gri=cv2.cvtColor(kare,cv2.COLOR_BGR2GRAY)\n",
    "    yuzler=yuz.detectMultiScale(gri,1.1,4)\n",
    "    \n",
    "    for (x,y,w,h,) in yuzler:\n",
    "        yeni=kare[y:y+h//2,x:x+w]\n",
    "        gri_yeni=cv2.cvtColor(yeni,cv2.COLOR_BGR2GRAY)\n",
    "        gozler=goz.detectMultiScale(gri_yeni,1.1,4)\n",
    "        cv2.rectangle(kare,(x,y),(x+w,y+h),(255,0,0),2)\n",
    "        for (a,b,c,d) in gozler:\n",
    "            cv2.rectangle(yeni,(a,b),(a+c,b+d),(0,255,0),2)\n",
    "\n",
    "    cv2.imshow(\"kamera\",kare)\n",
    "    \n",
    "    if cv2.waitKey(25) & 0xFF == ord('q'):\n",
    "        break\n",
    "    \n",
    "    \n",
    "kamera.release()\n",
    "cv2.destroyAllWindows()\n"
   ]
  },
  {
   "cell_type": "markdown",
   "metadata": {},
   "source": [
    "# Resimdeki Baskın Rengi Bulma"
   ]
  },
  {
   "cell_type": "code",
   "execution_count": null,
   "metadata": {},
   "outputs": [],
   "source": [
    "def getdcolor(img):\n",
    "    pixels = np.float32(img.reshape(-1, 3))\n",
    "\n",
    "    n_colors = 5\n",
    "    criteria = (cv2.TERM_CRITERIA_EPS + cv2.TERM_CRITERIA_MAX_ITER, 200, .1)\n",
    "    flags = cv2.KMEANS_RANDOM_CENTERS\n",
    "\n",
    "    _, labels, palette = cv2.kmeans(pixels, n_colors, None, criteria, 10, flags)\n",
    "    _, counts = np.unique(labels, return_counts=True)\n",
    "\n",
    "\n",
    "    \n",
    "    dominant = palette[np.argmax(counts)]\n",
    "    \n",
    "    return dominant\n",
    "\n",
    "\n",
    "\n",
    "\n",
    "img=cv2.imread(\"erik.jpg\")\n",
    "color=getdcolor(img)\n",
    "print(color) # Resimdeki en baskın rengin BGR değerleri\n",
    "cv2.imshow(\"Resim\",img)\n",
    "\n",
    "cv2.waitKey()\n",
    "cv2.destroyAllWindows()\n"
   ]
  },
  {
   "cell_type": "markdown",
   "metadata": {},
   "source": [
    "# Resimdeki İstenen Rengi Bulup Kare İçine Alma"
   ]
  },
  {
   "cell_type": "code",
   "execution_count": null,
   "metadata": {},
   "outputs": [],
   "source": [
    "img=cv2.imread('kiraz.jpg')\n",
    "\n",
    "img=cv2.resize(img,(800,800))\n",
    "\n",
    "\n",
    "hsv_img = cv2.cvtColor(img, cv2.COLOR_BGR2HSV)\n",
    "# kırmızı renk için HSV değerleri\n",
    "low_red=np.array([170, 50, 70])\n",
    "high_red=np.array([180, 255, 255])\n",
    " \n",
    "\n",
    "mask = cv2.inRange(hsv_img, low_red, high_red)\n",
    "mask = cv2.erode(mask,None,iterations=2)\n",
    "mask = cv2.dilate(mask,None,iterations=2)\n",
    "mask = cv2.GaussianBlur(mask, (3, 3), 0)\n",
    "cnts = cv2.findContours(mask.copy(), cv2.RETR_EXTERNAL, \n",
    "                        cv2.CHAIN_APPROX_SIMPLE)[-2]\n",
    "\n",
    "\n",
    "for cnt in cnts:\n",
    "    (x, y, w, h) = cv2.boundingRect(cnt)\n",
    "    \n",
    "    if w>100:   # resimdeki küçük yerleri tespit etmesin diye. Bu değer resimden resime değişir\n",
    "        cv2.rectangle(img,(x,y),(x+w,y+h),(0,255,0),4)\n",
    "\n",
    "\n",
    "cv2.imshow(\"Resim\",img)\n",
    "cv2.waitKey(0)\n",
    "cv2.destroyAllWindows()"
   ]
  },
  {
   "cell_type": "markdown",
   "metadata": {},
   "source": [
    "# Resmi Cartoon Haline Getirme"
   ]
  },
  {
   "cell_type": "markdown",
   "metadata": {},
   "source": [
    "Bu çok iyi çalışmıyor. Fakat gene de eklemek istedim"
   ]
  },
  {
   "cell_type": "code",
   "execution_count": null,
   "metadata": {},
   "outputs": [],
   "source": [
    "\n",
    "img = cv2.imread(\"d.jpg\")\n",
    "   \n",
    "\n",
    "gray = cv2.cvtColor(img, cv2.COLOR_BGR2GRAY)\n",
    "gray = cv2.medianBlur(gray, 5)\n",
    "edges = cv2.adaptiveThreshold(gray, 255, cv2.ADAPTIVE_THRESH_MEAN_C, \n",
    "                                         cv2.THRESH_BINARY, 9,9)\n",
    "\n",
    "\n",
    "\n",
    "\n",
    "color = cv2.bilateralFilter(img, 9, 250, 250)\n",
    "\n",
    "cartoon = cv2.bitwise_and(color, color, mask=edges)\n",
    "\n",
    "   \n",
    "   \n",
    "cv2.imshow(\"Image\", img)\n",
    "cv2.imshow(\"Cartoon\", cartoon)\n",
    "\n",
    "cv2.waitKey(0)\n",
    "cv2.destroyAllWindows()"
   ]
  },
  {
   "cell_type": "markdown",
   "metadata": {},
   "source": [
    "# Resmi Mozaikleştirme"
   ]
  },
  {
   "cell_type": "code",
   "execution_count": null,
   "metadata": {},
   "outputs": [],
   "source": [
    "import cv2\n",
    "import numpy as np\n",
    "\n",
    "\n",
    "img = cv2.imread ( \"messi.jpg\" ) \n",
    "img=cv2.resize(img,(800,800))\n",
    "slic = cv2.ximgproc.createSuperpixelSLIC ( img , region_size = 10 )  \n",
    "slic.iterate ( 10 )      \n",
    "mask_slic = slic.getLabelContourMask ( )\n",
    "\n",
    "mask_inv_slic = cv2.bitwise_not ( mask_slic )   \n",
    "\n",
    "img_slic = cv2.bitwise_and ( img , img , mask =  mask_inv_slic )\n",
    "cv2.imshow ( \"img_slic\" , img_slic ) \n",
    "\n",
    "cv2.waitKey ( ) \n",
    "cv2.destroyAllWindows()\n"
   ]
  },
  {
   "cell_type": "markdown",
   "metadata": {},
   "source": [
    "# Yolov4 İle Nesne Tespiti"
   ]
  },
  {
   "cell_type": "code",
   "execution_count": null,
   "metadata": {},
   "outputs": [],
   "source": [
    "\n",
    "net = cv2.dnn.readNet(\"yolov4.weights\", \"yolov4.cfg\")\n",
    "# yolov4.weights dosyasının boyutu büyük olduğu için yüklemedim. İnternetten kolayca bulabilirsiniz\n",
    "classes = []\n",
    "with open(\"coco.names\", \"r\") as f:\n",
    "    classes = [line.strip() for line in f.readlines()]\n",
    "layer_names = net.getLayerNames()\n",
    "output_layers = [layer_names[i[0] - 1] for i in net.getUnconnectedOutLayers()]\n",
    "colors = np.random.uniform(0, 255, size=(len(classes), 3))\n",
    "\n",
    "img = cv2.imread(\"nesne.jpg\")\n",
    "img=cv2.resize(img,(600,600))\n",
    "\n",
    "height, width, channels = img.shape\n",
    "\n",
    "\n",
    "blob = cv2.dnn.blobFromImage(img, 0.00392, (416, 416), (0, 0, 0), True, crop=False)\n",
    "net.setInput(blob)\n",
    "outs = net.forward(output_layers)\n",
    "\n",
    "\n",
    "\n",
    "\n",
    "class_ids = []\n",
    "confidences = []\n",
    "boxes = []\n",
    "for out in outs:\n",
    "    for detection in out:\n",
    "        scores = detection[5:]\n",
    "        class_id = np.argmax(scores)\n",
    "        confidence = scores[class_id]\n",
    "        if confidence > 0.2:  # bu oran fazla olabilir. İdeal sayıya resminize göre bulabilirsiniz\n",
    "            \n",
    "            center_x = int(detection[0] * width)\n",
    "            center_y = int(detection[1] * height)\n",
    "            w = int(detection[2] * width)\n",
    "            h = int(detection[3] * height)\n",
    "            \n",
    "            x = int(center_x - w / 2)\n",
    "            y = int(center_y - h / 2)\n",
    "            boxes.append([x, y, w, h])\n",
    "            confidences.append(float(confidence))\n",
    "            class_ids.append(class_id)\n",
    "            \n",
    "\n",
    "\n",
    "indexes = cv2.dnn.NMSBoxes(boxes, confidences, 0.5, 0.4)\n",
    "\n",
    "\n",
    "\n",
    "font = cv2.FONT_HERSHEY_SIMPLEX\n",
    "for i in range(len(boxes)):\n",
    "    if i in indexes:\n",
    "        x, y, w, h = boxes[i]\n",
    "        label = str(classes[class_ids[i]])\n",
    "        #color = colors[i]\n",
    "        color=(255,0,255)\n",
    "\n",
    "\n",
    "            \n",
    "        cv2.rectangle(img, (x, y), (x + w, y + h), color, 2)\n",
    "            \n",
    "        cv2.putText(img, label, (x, y ), font, 1, color, 1)\n",
    "      \n",
    "cv2.imshow(\"Image\", img)\n",
    "\n",
    "\n",
    "cv2.waitKey(0)\n",
    "cv2.destroyAllWindows()"
   ]
  }
 ],
 "metadata": {
  "kernelspec": {
   "display_name": "Python 3",
   "language": "python",
   "name": "python3"
  },
  "language_info": {
   "codemirror_mode": {
    "name": "ipython",
    "version": 3
   },
   "file_extension": ".py",
   "mimetype": "text/x-python",
   "name": "python",
   "nbconvert_exporter": "python",
   "pygments_lexer": "ipython3",
   "version": "3.7.4"
  }
 },
 "nbformat": 4,
 "nbformat_minor": 2
}
